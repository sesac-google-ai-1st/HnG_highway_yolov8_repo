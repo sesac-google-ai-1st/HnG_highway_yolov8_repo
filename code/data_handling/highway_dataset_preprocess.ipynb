{
 "cells": [
  {
   "cell_type": "markdown",
   "metadata": {},
   "source": [
    "# preprocess\n",
    "\n",
    "highway_labels_xml2txt.ipynb 에서 확인한 결과 이미지와 라벨 파일의 개수가 다르다!\n",
    "\n",
    "즉, label이 없는 image나 image가 없는 라벨이 있을 수 있다.\n",
    "\n",
    "- 하고자 하는 것: images와 labels가 겹치는 것만 남기기"
   ]
  },
  {
   "cell_type": "markdown",
   "metadata": {},
   "source": [
    "### train"
   ]
  },
  {
   "cell_type": "code",
   "execution_count": null,
   "metadata": {},
   "outputs": [
    {
     "name": "stdout",
     "output_type": "stream",
     "text": [
      "폴더1에만 존재하는 파일 이름:  {'Suwon_CH02_20200721_2130_TUE_9m_NH_highway_TW5_sunny_FHD_002', 'Suwon_CH02_20200721_2130_TUE_9m_NH_highway_TW5_sunny_FHD_038', 'Suwon_CH02_20200721_2130_TUE_9m_NH_highway_TW5_sunny_FHD_010', 'Suwon_CH02_20200721_2130_TUE_9m_NH_highway_TW5_sunny_FHD_049', 'Suwon_CH02_20200721_2130_TUE_9m_NH_highway_TW5_sunny_FHD_047', 'Suwon_CH02_20200721_2130_TUE_9m_NH_highway_TW5_sunny_FHD_104', 'Suwon_CH02_20200721_2130_TUE_9m_NH_highway_TW5_sunny_FHD_115', 'Suwon_CH02_20200721_2130_TUE_9m_NH_highway_TW5_sunny_FHD_143', 'Suwon_CH02_20200721_2130_TUE_9m_NH_highway_TW5_sunny_FHD_128', 'Suwon_CH02_20200721_2130_TUE_9m_NH_highway_TW5_sunny_FHD_006', 'Suwon_CH02_20200721_2130_TUE_9m_NH_highway_TW5_sunny_FHD_125', 'Suwon_CH02_20200721_2130_TUE_9m_NH_highway_TW5_sunny_FHD_019', 'Suwon_CH02_20200721_2130_TUE_9m_NH_highway_TW5_sunny_FHD_085', 'Suwon_CH02_20200721_2130_TUE_9m_NH_highway_TW5_sunny_FHD_083', 'Suwon_CH02_20200721_2130_TUE_9m_NH_highway_TW5_sunny_FHD_080', 'Suwon_CH02_20200721_2130_TUE_9m_NH_highway_TW5_sunny_FHD_056', 'Suwon_CH02_20200721_2130_TUE_9m_NH_highway_TW5_sunny_FHD_145', 'Suwon_CH02_20200721_2130_TUE_9m_NH_highway_TW5_sunny_FHD_035', 'Suwon_CH02_20200721_2130_TUE_9m_NH_highway_TW5_sunny_FHD_086', 'Suwon_CH02_20200721_2130_TUE_9m_NH_highway_TW5_sunny_FHD_067', 'Suwon_CH02_20200721_2130_TUE_9m_NH_highway_TW5_sunny_FHD_112', 'Suwon_CH02_20200721_2130_TUE_9m_NH_highway_TW5_sunny_FHD_042', 'Suwon_CH02_20200721_2130_TUE_9m_NH_highway_TW5_sunny_FHD_040', 'Suwon_CH02_20200721_2130_TUE_9m_NH_highway_TW5_sunny_FHD_122', 'Suwon_CH02_20200721_2130_TUE_9m_NH_highway_TW5_sunny_FHD_096', 'Suwon_CH02_20200721_2130_TUE_9m_NH_highway_TW5_sunny_FHD_150', 'Suwon_CH02_20200721_2130_TUE_9m_NH_highway_TW5_sunny_FHD_124', 'Suwon_CH02_20200721_2130_TUE_9m_NH_highway_TW5_sunny_FHD_097', 'Suwon_CH02_20200721_2130_TUE_9m_NH_highway_TW5_sunny_FHD_103', 'Suwon_CH02_20200721_2130_TUE_9m_NH_highway_TW5_sunny_FHD_028', 'Suwon_CH02_20200721_2130_TUE_9m_NH_highway_TW5_sunny_FHD_101', 'Suwon_CH02_20200721_2130_TUE_9m_NH_highway_TW5_sunny_FHD_075', 'Suwon_CH02_20200721_2130_TUE_9m_NH_highway_TW5_sunny_FHD_054', 'Suwon_CH02_20200721_2130_TUE_9m_NH_highway_TW5_sunny_FHD_071', 'Suwon_CH02_20200721_2130_TUE_9m_NH_highway_TW5_sunny_FHD_007', 'Suwon_CH02_20200721_2130_TUE_9m_NH_highway_TW5_sunny_FHD_102', 'Suwon_CH02_20200721_2130_TUE_9m_NH_highway_TW5_sunny_FHD_149', 'Suwon_CH02_20200721_2130_TUE_9m_NH_highway_TW5_sunny_FHD_055', 'Suwon_CH02_20200721_2130_TUE_9m_NH_highway_TW5_sunny_FHD_004', 'Suwon_CH02_20200721_2130_TUE_9m_NH_highway_TW5_sunny_FHD_063', 'Suwon_CH02_20200721_2130_TUE_9m_NH_highway_TW5_sunny_FHD_091', 'Suwon_CH02_20200721_2130_TUE_9m_NH_highway_TW5_sunny_FHD_022', 'Suwon_CH02_20200721_2130_TUE_9m_NH_highway_TW5_sunny_FHD_034', 'Suwon_CH02_20200721_2130_TUE_9m_NH_highway_TW5_sunny_FHD_117', 'Suwon_CH02_20200721_2130_TUE_9m_NH_highway_TW5_sunny_FHD_107', 'Suwon_CH02_20200721_2130_TUE_9m_NH_highway_TW5_sunny_FHD_135', 'Suwon_CH02_20200721_2130_TUE_9m_NH_highway_TW5_sunny_FHD_127', 'Suwon_CH02_20200721_2130_TUE_9m_NH_highway_TW5_sunny_FHD_144', 'Suwon_CH02_20200721_2130_TUE_9m_NH_highway_TW5_sunny_FHD_029', 'Suwon_CH02_20200721_2130_TUE_9m_NH_highway_TW5_sunny_FHD_084', 'Suwon_CH02_20200721_2130_TUE_9m_NH_highway_TW5_sunny_FHD_053', 'Suwon_CH02_20200721_2130_TUE_9m_NH_highway_TW5_sunny_FHD_108', 'Suwon_CH02_20200721_2130_TUE_9m_NH_highway_TW5_sunny_FHD_059', 'Suwon_CH02_20200721_2130_TUE_9m_NH_highway_TW5_sunny_FHD_072', 'Suwon_CH02_20200721_2130_TUE_9m_NH_highway_TW5_sunny_FHD_078', 'Suwon_CH02_20200721_2130_TUE_9m_NH_highway_TW5_sunny_FHD_130', 'Suwon_CH02_20200721_2130_TUE_9m_NH_highway_TW5_sunny_FHD_146', 'Suwon_CH02_20200721_2130_TUE_9m_NH_highway_TW5_sunny_FHD_058', 'Suwon_CH02_20200721_2130_TUE_9m_NH_highway_TW5_sunny_FHD_118', 'Suwon_CH02_20200721_2130_TUE_9m_NH_highway_TW5_sunny_FHD_051', 'Suwon_CH02_20200721_2130_TUE_9m_NH_highway_TW5_sunny_FHD_062', 'Suwon_CH02_20200721_2130_TUE_9m_NH_highway_TW5_sunny_FHD_132', 'Suwon_CH02_20200721_2130_TUE_9m_NH_highway_TW5_sunny_FHD_129', 'Suwon_CH02_20200721_2130_TUE_9m_NH_highway_TW5_sunny_FHD_094', 'Suwon_CH02_20200721_2130_TUE_9m_NH_highway_TW5_sunny_FHD_041', 'Suwon_CH02_20200721_2130_TUE_9m_NH_highway_TW5_sunny_FHD_076', 'Suwon_CH02_20200721_2130_TUE_9m_NH_highway_TW5_sunny_FHD_013', 'Suwon_CH02_20200721_2130_TUE_9m_NH_highway_TW5_sunny_FHD_064', 'Suwon_CH02_20200721_2130_TUE_9m_NH_highway_TW5_sunny_FHD_111', 'Suwon_CH02_20200721_2130_TUE_9m_NH_highway_TW5_sunny_FHD_052', 'Suwon_CH02_20200721_2130_TUE_9m_NH_highway_TW5_sunny_FHD_119', 'Suwon_CH02_20200721_2130_TUE_9m_NH_highway_TW5_sunny_FHD_148', 'Suwon_CH02_20200721_2130_TUE_9m_NH_highway_TW5_sunny_FHD_134', 'Suwon_CH02_20200721_2130_TUE_9m_NH_highway_TW5_sunny_FHD_137', 'Suwon_CH02_20200721_2130_TUE_9m_NH_highway_TW5_sunny_FHD_139', 'Suwon_CH02_20200721_2130_TUE_9m_NH_highway_TW5_sunny_FHD_014', 'Suwon_CH02_20200721_2130_TUE_9m_NH_highway_TW5_sunny_FHD_131', 'Suwon_CH02_20200721_2130_TUE_9m_NH_highway_TW5_sunny_FHD_113', 'Suwon_CH02_20200721_2130_TUE_9m_NH_highway_TW5_sunny_FHD_018', 'Suwon_CH02_20200721_2130_TUE_9m_NH_highway_TW5_sunny_FHD_043', 'Suwon_CH02_20200721_2130_TUE_9m_NH_highway_TW5_sunny_FHD_005', 'Suwon_CH02_20200721_2130_TUE_9m_NH_highway_TW5_sunny_FHD_116', 'Suwon_CH02_20200721_2130_TUE_9m_NH_highway_TW5_sunny_FHD_031', 'Suwon_CH02_20200721_2130_TUE_9m_NH_highway_TW5_sunny_FHD_082', 'Suwon_CH02_20200721_2130_TUE_9m_NH_highway_TW5_sunny_FHD_081', 'Suwon_CH02_20200721_2130_TUE_9m_NH_highway_TW5_sunny_FHD_095', 'Suwon_CH02_20200721_2130_TUE_9m_NH_highway_TW5_sunny_FHD_036', 'Suwon_CH02_20200721_2130_TUE_9m_NH_highway_TW5_sunny_FHD_045', 'Suwon_CH02_20200721_2130_TUE_9m_NH_highway_TW5_sunny_FHD_011', 'Suwon_CH02_20200721_2130_TUE_9m_NH_highway_TW5_sunny_FHD_073', 'Suwon_CH02_20200721_2130_TUE_9m_NH_highway_TW5_sunny_FHD_015', 'Suwon_CH02_20200721_2130_TUE_9m_NH_highway_TW5_sunny_FHD_105', 'Suwon_CH02_20200721_2130_TUE_9m_NH_highway_TW5_sunny_FHD_065', 'Suwon_CH02_20200721_2130_TUE_9m_NH_highway_TW5_sunny_FHD_044', 'Suwon_CH02_20200721_2130_TUE_9m_NH_highway_TW5_sunny_FHD_061', 'Suwon_CH02_20200721_2130_TUE_9m_NH_highway_TW5_sunny_FHD_114', 'Suwon_CH02_20200721_2130_TUE_9m_NH_highway_TW5_sunny_FHD_037', 'Suwon_CH02_20200721_2130_TUE_9m_NH_highway_TW5_sunny_FHD_120', 'Suwon_CH02_20200721_2130_TUE_9m_NH_highway_TW5_sunny_FHD_033', 'Suwon_CH02_20200721_2130_TUE_9m_NH_highway_TW5_sunny_FHD_068', 'Suwon_CH02_20200721_2130_TUE_9m_NH_highway_TW5_sunny_FHD_100', 'Suwon_CH02_20200721_2130_TUE_9m_NH_highway_TW5_sunny_FHD_027', 'Suwon_CH02_20200721_2130_TUE_9m_NH_highway_TW5_sunny_FHD_008', 'Suwon_CH02_20200721_2130_TUE_9m_NH_highway_TW5_sunny_FHD_024', 'Suwon_CH02_20200721_2130_TUE_9m_NH_highway_TW5_sunny_FHD_099', 'Suwon_CH02_20200721_2130_TUE_9m_NH_highway_TW5_sunny_FHD_057', 'Suwon_CH02_20200721_2130_TUE_9m_NH_highway_TW5_sunny_FHD_039', 'Suwon_CH02_20200721_2130_TUE_9m_NH_highway_TW5_sunny_FHD_048', 'Suwon_CH02_20200721_2130_TUE_9m_NH_highway_TW5_sunny_FHD_109', 'Suwon_CH02_20200721_2130_TUE_9m_NH_highway_TW5_sunny_FHD_142', 'Suwon_CH02_20200721_2130_TUE_9m_NH_highway_TW5_sunny_FHD_016', 'Suwon_CH02_20200721_2130_TUE_9m_NH_highway_TW5_sunny_FHD_009', 'Suwon_CH02_20200721_2130_TUE_9m_NH_highway_TW5_sunny_FHD_021', 'Suwon_CH02_20200721_2130_TUE_9m_NH_highway_TW5_sunny_FHD_141', 'Suwon_CH02_20200721_2130_TUE_9m_NH_highway_TW5_sunny_FHD_026', 'Suwon_CH02_20200721_2130_TUE_9m_NH_highway_TW5_sunny_FHD_079', 'Suwon_CH02_20200721_2130_TUE_9m_NH_highway_TW5_sunny_FHD_106', 'Suwon_CH02_20200721_2130_TUE_9m_NH_highway_TW5_sunny_FHD_090', 'Suwon_CH02_20200721_2130_TUE_9m_NH_highway_TW5_sunny_FHD_020', 'Suwon_CH02_20200721_2130_TUE_9m_NH_highway_TW5_sunny_FHD_121', 'Suwon_CH02_20200721_2130_TUE_9m_NH_highway_TW5_sunny_FHD_147', 'Suwon_CH02_20200721_2130_TUE_9m_NH_highway_TW5_sunny_FHD_077', 'Suwon_CH02_20200721_2130_TUE_9m_NH_highway_TW5_sunny_FHD_089', 'Suwon_CH02_20200721_2130_TUE_9m_NH_highway_TW5_sunny_FHD_138', 'Suwon_CH02_20200721_2130_TUE_9m_NH_highway_TW5_sunny_FHD_093', 'Suwon_CH02_20200721_2130_TUE_9m_NH_highway_TW5_sunny_FHD_032', 'Suwon_CH02_20200721_2130_TUE_9m_NH_highway_TW5_sunny_FHD_066', 'Suwon_CH02_20200721_2130_TUE_9m_NH_highway_TW5_sunny_FHD_110', 'Suwon_CH02_20200721_2130_TUE_9m_NH_highway_TW5_sunny_FHD_098', 'Suwon_CH02_20200721_2130_TUE_9m_NH_highway_TW5_sunny_FHD_017', 'Suwon_CH02_20200721_2130_TUE_9m_NH_highway_TW5_sunny_FHD_126', 'Suwon_CH02_20200721_2130_TUE_9m_NH_highway_TW5_sunny_FHD_001', 'Suwon_CH02_20200721_2130_TUE_9m_NH_highway_TW5_sunny_FHD_025', 'Suwon_CH02_20200721_2130_TUE_9m_NH_highway_TW5_sunny_FHD_046', 'Suwon_CH02_20200721_2130_TUE_9m_NH_highway_TW5_sunny_FHD_030', 'Suwon_CH02_20200721_2130_TUE_9m_NH_highway_TW5_sunny_FHD_023', 'Suwon_CH02_20200721_2130_TUE_9m_NH_highway_TW5_sunny_FHD_074', 'Suwon_CH02_20200721_2130_TUE_9m_NH_highway_TW5_sunny_FHD_136', 'Suwon_CH02_20200721_2130_TUE_9m_NH_highway_TW5_sunny_FHD_070', 'Suwon_CH02_20200721_2130_TUE_9m_NH_highway_TW5_sunny_FHD_140', 'Suwon_CH02_20200721_2130_TUE_9m_NH_highway_TW5_sunny_FHD_087', 'Suwon_CH02_20200721_2130_TUE_9m_NH_highway_TW5_sunny_FHD_123', 'Suwon_CH02_20200721_2130_TUE_9m_NH_highway_TW5_sunny_FHD_088', 'Suwon_CH02_20200721_2130_TUE_9m_NH_highway_TW5_sunny_FHD_092', 'Suwon_CH02_20200721_2130_TUE_9m_NH_highway_TW5_sunny_FHD_003', 'Suwon_CH02_20200721_2130_TUE_9m_NH_highway_TW5_sunny_FHD_050', 'Suwon_CH02_20200721_2130_TUE_9m_NH_highway_TW5_sunny_FHD_060', 'Suwon_CH02_20200721_2130_TUE_9m_NH_highway_TW5_sunny_FHD_133', 'Suwon_CH02_20200721_2130_TUE_9m_NH_highway_TW5_sunny_FHD_012', 'Suwon_CH02_20200721_2130_TUE_9m_NH_highway_TW5_sunny_FHD_069'}\n",
      "폴더1에만 존재하는 파일개수: 150\n",
      "폴더2에만 존재하는 파일 이름:  {'Suwon_CH02_20200721_2130_TUE_9m_NH_highway_TW5_sunny_FHD 056', 'Suwon_CH02_20200721_2130_TUE_9m_NH_highway_TW5_sunny_FHD 014', 'Suwon_CH07_20200720_1730_MON_9m_NH_highway_OW5_sunny_FHD_086', 'Suwon_CH02_20200721_2130_TUE_9m_NH_highway_TW5_sunny_FHD 123', 'Suwon_CH02_20200721_2130_TUE_9m_NH_highway_TW5_sunny_FHD 044', 'Suwon_CH02_20200721_2130_TUE_9m_NH_highway_TW5_sunny_FHD 111', 'Suwon_CH02_20200721_2130_TUE_9m_NH_highway_TW5_sunny_FHD 029', 'Suwon_CH02_20200721_2130_TUE_9m_NH_highway_TW5_sunny_FHD 006', 'Suwon_CH07_20200720_1730_MON_9m_NH_highway_OW5_sunny_FHD_091', 'Suwon_CH02_20200721_2130_TUE_9m_NH_highway_TW5_sunny_FHD 142', 'Suwon_CH02_20200721_2130_TUE_9m_NH_highway_TW5_sunny_FHD 073', 'Suwon_CH02_20200721_2130_TUE_9m_NH_highway_TW5_sunny_FHD 017', 'Suwon_CH02_20200721_2130_TUE_9m_NH_highway_TW5_sunny_FHD 115', 'Suwon_CH02_20200721_2130_TUE_9m_NH_highway_TW5_sunny_FHD 089', 'Suwon_CH02_20200721_2130_TUE_9m_NH_highway_TW5_sunny_FHD 147', 'Suwon_CH02_20200721_2130_TUE_9m_NH_highway_TW5_sunny_FHD 071', 'Suwon_CH02_20200721_2130_TUE_9m_NH_highway_TW5_sunny_FHD 008', 'Suwon_CH02_20200721_2130_TUE_9m_NH_highway_TW5_sunny_FHD 145', 'Suwon_CH02_20200721_2130_TUE_9m_NH_highway_TW5_sunny_FHD 038', 'Suwon_CH02_20200721_2130_TUE_9m_NH_highway_TW5_sunny_FHD 090', 'Suwon_CH02_20200721_2130_TUE_9m_NH_highway_TW5_sunny_FHD 061', 'Suwon_CH02_20200721_2130_TUE_9m_NH_highway_TW5_sunny_FHD 114', 'Suwon_CH07_20200720_1730_MON_9m_NH_highway_OW5_sunny_FHD_098', 'Suwon_CH03_20200722_1900_WED_9m_NH_highway_OW5_sunny_FHD_052', 'Suwon_CH07_20200720_1730_MON_9m_NH_highway_OW5_sunny_FHD_140', 'Suwon_CH02_20200721_2130_TUE_9m_NH_highway_TW5_sunny_FHD 037', 'Suwon_CH02_20200721_2130_TUE_9m_NH_highway_TW5_sunny_FHD 010', 'Suwon_CH07_20200720_1730_MON_9m_NH_highway_OW5_sunny_FHD_104', 'Suwon_CH07_20200720_1730_MON_9m_NH_highway_OW5_sunny_FHD_141', 'Suwon_CH02_20200721_2130_TUE_9m_NH_highway_TW5_sunny_FHD 109', 'Suwon_CH02_20200721_2130_TUE_9m_NH_highway_TW5_sunny_FHD 064', 'Suwon_CH02_20200721_2130_TUE_9m_NH_highway_TW5_sunny_FHD 086', 'Suwon_CH07_20200720_1730_MON_9m_NH_highway_OW5_sunny_FHD_142', 'Suwon_CH02_20200721_2130_TUE_9m_NH_highway_TW5_sunny_FHD 040', 'Suwon_CH02_20200721_2130_TUE_9m_NH_highway_TW5_sunny_FHD 106', 'Suwon_CH02_20200721_2130_TUE_9m_NH_highway_TW5_sunny_FHD 116', 'Suwon_CH02_20200721_2130_TUE_9m_NH_highway_TW5_sunny_FHD 063', 'Suwon_CH02_20200721_2130_TUE_9m_NH_highway_TW5_sunny_FHD 050', 'Suwon_CH02_20200721_2130_TUE_9m_NH_highway_TW5_sunny_FHD 118', 'Suwon_CH02_20200721_2130_TUE_9m_NH_highway_TW5_sunny_FHD 104', 'Suwon_CH02_20200721_2130_TUE_9m_NH_highway_TW5_sunny_FHD 035', 'Suwon_CH07_20200720_1730_MON_9m_NH_highway_OW5_sunny_FHD_100', 'Suwon_CH07_20200720_1730_MON_9m_NH_highway_OW5_sunny_FHD_150', 'Suwon_CH07_20200720_1730_MON_9m_NH_highway_OW5_sunny_FHD_148', 'Suwon_CH02_20200721_2130_TUE_9m_NH_highway_TW5_sunny_FHD 020', 'Suwon_CH02_20200721_2130_TUE_9m_NH_highway_TW5_sunny_FHD 023', 'Suwon_CH02_20200721_2130_TUE_9m_NH_highway_TW5_sunny_FHD 043', 'Suwon_CH02_20200721_2130_TUE_9m_NH_highway_TW5_sunny_FHD 034', 'Suwon_CH02_20200721_2130_TUE_9m_NH_highway_TW5_sunny_FHD 019', 'Suwon_CH02_20200721_2130_TUE_9m_NH_highway_TW5_sunny_FHD 060', 'Suwon_CH02_20200721_2130_TUE_9m_NH_highway_TW5_sunny_FHD 121', 'Suwon_CH07_20200720_1730_MON_9m_NH_highway_OW5_sunny_FHD_084', 'Suwon_CH02_20200721_2130_TUE_9m_NH_highway_TW5_sunny_FHD 139', 'Suwon_CH02_20200721_2130_TUE_9m_NH_highway_TW5_sunny_FHD 074', 'Suwon_CH02_20200721_2130_TUE_9m_NH_highway_TW5_sunny_FHD 108', 'Suwon_CH02_20200721_2130_TUE_9m_NH_highway_TW5_sunny_FHD 032', 'Suwon_CH07_20200720_1730_MON_9m_NH_highway_OW5_sunny_FHD_087', 'Suwon_CH02_20200721_2130_TUE_9m_NH_highway_TW5_sunny_FHD 027', 'Suwon_CH02_20200721_2130_TUE_9m_NH_highway_TW5_sunny_FHD 021', 'Suwon_CH02_20200721_2130_TUE_9m_NH_highway_TW5_sunny_FHD 094', 'Suwon_CH07_20200720_1730_MON_9m_NH_highway_OW5_sunny_FHD_110', 'Suwon_CH07_20200720_1730_MON_9m_NH_highway_OW5_sunny_FHD_099', 'Suwon_CH02_20200721_2130_TUE_9m_NH_highway_TW5_sunny_FHD 046', 'Suwon_CH02_20200721_2130_TUE_9m_NH_highway_TW5_sunny_FHD 146', 'Suwon_CH02_20200721_2130_TUE_9m_NH_highway_TW5_sunny_FHD 012', 'Suwon_CH02_20200721_2130_TUE_9m_NH_highway_TW5_sunny_FHD 098', 'Suwon_CH03_20200722_1900_WED_9m_NH_highway_OW5_sunny_FHD_051', 'Suwon_CH02_20200721_2130_TUE_9m_NH_highway_TW5_sunny_FHD 084', 'Suwon_CH02_20200721_2130_TUE_9m_NH_highway_TW5_sunny_FHD 077', 'Suwon_CH02_20200721_2130_TUE_9m_NH_highway_TW5_sunny_FHD 066', 'Suwon_CH02_20200721_2130_TUE_9m_NH_highway_TW5_sunny_FHD 015', 'Suwon_CH07_20200720_1730_MON_9m_NH_highway_OW5_sunny_FHD_115', 'Suwon_CH02_20200721_2130_TUE_9m_NH_highway_TW5_sunny_FHD 082', 'Suwon_CH02_20200721_2130_TUE_9m_NH_highway_TW5_sunny_FHD 057', 'Suwon_CH02_20200721_2130_TUE_9m_NH_highway_TW5_sunny_FHD 078', 'Suwon_CH02_20200721_2130_TUE_9m_NH_highway_TW5_sunny_FHD 036', 'Suwon_CH02_20200721_2130_TUE_9m_NH_highway_TW5_sunny_FHD 128', 'Suwon_CH07_20200720_1730_MON_9m_NH_highway_OW5_sunny_FHD_108', 'Suwon_CH07_20200720_1730_MON_9m_NH_highway_OW5_sunny_FHD_143', 'Suwon_CH07_20200720_1730_MON_9m_NH_highway_OW5_sunny_FHD_127', 'Suwon_CH02_20200721_2130_TUE_9m_NH_highway_TW5_sunny_FHD 097', 'Suwon_CH02_20200721_2130_TUE_9m_NH_highway_TW5_sunny_FHD 095', 'Suwon_CH02_20200721_2130_TUE_9m_NH_highway_TW5_sunny_FHD 065', 'Suwon_CH02_20200721_2130_TUE_9m_NH_highway_TW5_sunny_FHD 144', 'Suwon_CH02_20200721_2130_TUE_9m_NH_highway_TW5_sunny_FHD 016', 'Suwon_CH02_20200721_2130_TUE_9m_NH_highway_TW5_sunny_FHD 028', 'Suwon_CH07_20200720_1730_MON_9m_NH_highway_OW5_sunny_FHD_132', 'Suwon_CH02_20200721_2130_TUE_9m_NH_highway_TW5_sunny_FHD 136', 'Suwon_CH02_20200721_2130_TUE_9m_NH_highway_TW5_sunny_FHD 092', 'Suwon_CH02_20200721_2130_TUE_9m_NH_highway_TW5_sunny_FHD 067', 'Suwon_CH07_20200720_1730_MON_9m_NH_highway_OW5_sunny_FHD_129', 'Suwon_CH02_20200721_2130_TUE_9m_NH_highway_TW5_sunny_FHD 051', 'Suwon_CH02_20200721_2130_TUE_9m_NH_highway_TW5_sunny_FHD 026', 'Suwon_CH07_20200720_1730_MON_9m_NH_highway_OW5_sunny_FHD_128', 'Suwon_CH02_20200721_2130_TUE_9m_NH_highway_TW5_sunny_FHD 085', 'Suwon_CH07_20200720_1730_MON_9m_NH_highway_OW5_sunny_FHD_114', 'Suwon_CH02_20200721_2130_TUE_9m_NH_highway_TW5_sunny_FHD 141', 'Suwon_CH02_20200721_2130_TUE_9m_NH_highway_TW5_sunny_FHD 122', 'Suwon_CH02_20200721_2130_TUE_9m_NH_highway_TW5_sunny_FHD 068', 'Suwon_CH02_20200721_2130_TUE_9m_NH_highway_TW5_sunny_FHD 047', 'Suwon_CH02_20200721_2130_TUE_9m_NH_highway_TW5_sunny_FHD 001', 'Suwon_CH02_20200721_2130_TUE_9m_NH_highway_TW5_sunny_FHD 079', 'Suwon_CH07_20200720_1730_MON_9m_NH_highway_OW5_sunny_FHD_105', 'Suwon_CH07_20200720_1730_MON_9m_NH_highway_OW5_sunny_FHD_126', 'Suwon_CH02_20200721_2130_TUE_9m_NH_highway_TW5_sunny_FHD 031', 'Suwon_CH07_20200720_1730_MON_9m_NH_highway_OW5_sunny_FHD_133', 'Suwon_CH02_20200721_2130_TUE_9m_NH_highway_TW5_sunny_FHD 055', 'Suwon_CH02_20200721_2130_TUE_9m_NH_highway_TW5_sunny_FHD 005', 'Suwon_CH02_20200721_2130_TUE_9m_NH_highway_TW5_sunny_FHD 133', 'Suwon_CH07_20200720_1730_MON_9m_NH_highway_OW5_sunny_FHD_144', 'Suwon_CH02_20200721_2130_TUE_9m_NH_highway_TW5_sunny_FHD 096', 'Suwon_CH07_20200720_1730_MON_9m_NH_highway_OW5_sunny_FHD_097', 'Suwon_CH07_20200720_1730_MON_9m_NH_highway_OW5_sunny_FHD_135', 'Suwon_CH07_20200720_1730_MON_9m_NH_highway_OW5_sunny_FHD_107', 'Suwon_CH07_20200720_1730_MON_9m_NH_highway_OW5_sunny_FHD_149', 'Suwon_CH07_20200720_1730_MON_9m_NH_highway_OW5_sunny_FHD_093', 'Suwon_CH02_20200721_2130_TUE_9m_NH_highway_TW5_sunny_FHD 049', 'Suwon_CH07_20200720_1730_MON_9m_NH_highway_OW5_sunny_FHD_139', 'Suwon_CH02_20200721_2130_TUE_9m_NH_highway_TW5_sunny_FHD 030', 'Suwon_CH02_20200721_2130_TUE_9m_NH_highway_TW5_sunny_FHD 137', 'Suwon_CH02_20200721_2130_TUE_9m_NH_highway_TW5_sunny_FHD 052', 'Suwon_CH02_20200721_2130_TUE_9m_NH_highway_TW5_sunny_FHD 127', 'Suwon_CH02_20200721_2130_TUE_9m_NH_highway_TW5_sunny_FHD 125', 'Suwon_CH02_20200721_2130_TUE_9m_NH_highway_TW5_sunny_FHD 112', 'Suwon_CH07_20200720_1730_MON_9m_NH_highway_OW5_sunny_FHD_118', 'Suwon_CH02_20200721_2130_TUE_9m_NH_highway_TW5_sunny_FHD 042', 'Suwon_CH02_20200721_2130_TUE_9m_NH_highway_TW5_sunny_FHD 131', 'Suwon_CH07_20200720_1730_MON_9m_NH_highway_OW5_sunny_FHD_095', 'Suwon_CH02_20200721_2130_TUE_9m_NH_highway_TW5_sunny_FHD 070', 'Suwon_CH02_20200721_2130_TUE_9m_NH_highway_TW5_sunny_FHD 013', 'Suwon_CH07_20200720_1730_MON_9m_NH_highway_OW5_sunny_FHD_146', 'Suwon_CH02_20200721_2130_TUE_9m_NH_highway_TW5_sunny_FHD 004', 'Suwon_CH07_20200720_1730_MON_9m_NH_highway_OW5_sunny_FHD_113', 'Suwon_CH02_20200721_2130_TUE_9m_NH_highway_TW5_sunny_FHD 024', 'Suwon_CH02_20200721_2130_TUE_9m_NH_highway_TW5_sunny_FHD 081', 'Suwon_CH02_20200721_2130_TUE_9m_NH_highway_TW5_sunny_FHD 107', 'Suwon_CH02_20200721_2130_TUE_9m_NH_highway_TW5_sunny_FHD 130', 'Suwon_CH07_20200720_1730_MON_9m_NH_highway_OW5_sunny_FHD_101', 'Suwon_CH02_20200721_2130_TUE_9m_NH_highway_TW5_sunny_FHD 087', 'Suwon_CH02_20200721_2130_TUE_9m_NH_highway_TW5_sunny_FHD 132', 'Suwon_CH07_20200720_1730_MON_9m_NH_highway_OW5_sunny_FHD_106', 'Suwon_CH07_20200720_1730_MON_9m_NH_highway_OW5_sunny_FHD_089', 'Suwon_CH02_20200721_2130_TUE_9m_NH_highway_TW5_sunny_FHD 053', 'Suwon_CH02_20200721_2130_TUE_9m_NH_highway_TW5_sunny_FHD 119', 'Suwon_CH07_20200720_1730_MON_9m_NH_highway_OW5_sunny_FHD_138', 'Suwon_CH07_20200720_1730_MON_9m_NH_highway_OW5_sunny_FHD_145', 'Suwon_CH07_20200720_1730_MON_9m_NH_highway_OW5_sunny_FHD_096', 'Suwon_CH02_20200721_2130_TUE_9m_NH_highway_TW5_sunny_FHD 134', 'Suwon_CH07_20200720_1730_MON_9m_NH_highway_OW5_sunny_FHD_124', 'Suwon_CH02_20200721_2130_TUE_9m_NH_highway_TW5_sunny_FHD 149', 'Suwon_CH02_20200721_2130_TUE_9m_NH_highway_TW5_sunny_FHD 126', 'Suwon_CH07_20200720_1730_MON_9m_NH_highway_OW5_sunny_FHD_109', 'Suwon_CH02_20200721_2130_TUE_9m_NH_highway_TW5_sunny_FHD 059', 'Suwon_CH07_20200720_1730_MON_9m_NH_highway_OW5_sunny_FHD_121', 'Suwon_CH02_20200721_2130_TUE_9m_NH_highway_TW5_sunny_FHD 113', 'Suwon_CH02_20200721_2130_TUE_9m_NH_highway_TW5_sunny_FHD 091', 'Suwon_CH02_20200721_2130_TUE_9m_NH_highway_TW5_sunny_FHD 045', 'Suwon_CH02_20200721_2130_TUE_9m_NH_highway_TW5_sunny_FHD 069', 'Suwon_CH02_20200721_2130_TUE_9m_NH_highway_TW5_sunny_FHD 018', 'Suwon_CH02_20200721_2130_TUE_9m_NH_highway_TW5_sunny_FHD 080', 'Suwon_CH07_20200720_1730_MON_9m_NH_highway_OW5_sunny_FHD_130', 'Suwon_CH02_20200721_2130_TUE_9m_NH_highway_TW5_sunny_FHD 033', 'Suwon_CH02_20200721_2130_TUE_9m_NH_highway_TW5_sunny_FHD 039', 'Suwon_CH02_20200721_2130_TUE_9m_NH_highway_TW5_sunny_FHD 138', 'Suwon_CH02_20200721_2130_TUE_9m_NH_highway_TW5_sunny_FHD 135', 'Suwon_CH07_20200720_1730_MON_9m_NH_highway_OW5_sunny_FHD_090', 'Suwon_CH02_20200721_2130_TUE_9m_NH_highway_TW5_sunny_FHD 120', 'Suwon_CH02_20200721_2130_TUE_9m_NH_highway_TW5_sunny_FHD 041', 'Suwon_CH02_20200721_2130_TUE_9m_NH_highway_TW5_sunny_FHD 148', 'Suwon_CH07_20200720_1730_MON_9m_NH_highway_OW5_sunny_FHD_088', 'Suwon_CH02_20200721_2130_TUE_9m_NH_highway_TW5_sunny_FHD 103', 'Suwon_CH02_20200721_2130_TUE_9m_NH_highway_TW5_sunny_FHD 150', 'Suwon_CH02_20200721_2130_TUE_9m_NH_highway_TW5_sunny_FHD 062', 'Suwon_CH07_20200720_1730_MON_9m_NH_highway_OW5_sunny_FHD_083', 'Suwon_CH07_20200720_1730_MON_9m_NH_highway_OW5_sunny_FHD_125', 'Suwon_CH02_20200721_2130_TUE_9m_NH_highway_TW5_sunny_FHD 009', 'Suwon_CH07_20200720_1730_MON_9m_NH_highway_OW5_sunny_FHD_134', 'Suwon_CH07_20200720_1730_MON_9m_NH_highway_OW5_sunny_FHD_147', 'Suwon_CH07_20200720_1730_MON_9m_NH_highway_OW5_sunny_FHD_111', 'Suwon_CH02_20200721_2130_TUE_9m_NH_highway_TW5_sunny_FHD 088', 'Suwon_CH02_20200721_2130_TUE_9m_NH_highway_TW5_sunny_FHD 129', 'Suwon_CH02_20200721_2130_TUE_9m_NH_highway_TW5_sunny_FHD 048', 'Suwon_CH02_20200721_2130_TUE_9m_NH_highway_TW5_sunny_FHD 140', 'Suwon_CH07_20200720_1730_MON_9m_NH_highway_OW5_sunny_FHD_123', 'Suwon_CH07_20200720_1730_MON_9m_NH_highway_OW5_sunny_FHD_094', 'Suwon_CH02_20200721_2130_TUE_9m_NH_highway_TW5_sunny_FHD 075', 'Suwon_CH07_20200720_1730_MON_9m_NH_highway_OW5_sunny_FHD_136', 'Suwon_CH02_20200721_2130_TUE_9m_NH_highway_TW5_sunny_FHD 011', 'Suwon_CH07_20200720_1730_MON_9m_NH_highway_OW5_sunny_FHD_131', 'Suwon_CH02_20200721_2130_TUE_9m_NH_highway_TW5_sunny_FHD 099', 'Suwon_CH02_20200721_1530_TUE_9m_NH_highway_TW5_sunny_FHD_069', 'Suwon_CH02_20200721_2130_TUE_9m_NH_highway_TW5_sunny_FHD 105', 'Suwon_CH07_20200720_1730_MON_9m_NH_highway_OW5_sunny_FHD_119', 'Suwon_CH07_20200720_1730_MON_9m_NH_highway_OW5_sunny_FHD_102', 'Suwon_CH07_20200720_1730_MON_9m_NH_highway_OW5_sunny_FHD_116', 'Suwon_CH02_20200721_2130_TUE_9m_NH_highway_TW5_sunny_FHD 083', 'Suwon_CH02_20200721_2130_TUE_9m_NH_highway_TW5_sunny_FHD 072', 'Suwon_CH02_20200721_2130_TUE_9m_NH_highway_TW5_sunny_FHD 117', 'Suwon_CH02_20200721_2130_TUE_9m_NH_highway_TW5_sunny_FHD 007', 'Suwon_CH02_20200721_2130_TUE_9m_NH_highway_TW5_sunny_FHD 110', 'Suwon_CH02_20200721_2130_TUE_9m_NH_highway_TW5_sunny_FHD 102', 'Suwon_CH02_20200721_2130_TUE_9m_NH_highway_TW5_sunny_FHD 025', 'Suwon_CH07_20200720_1730_MON_9m_NH_highway_OW5_sunny_FHD_137', 'Suwon_CH07_20200720_1730_MON_9m_NH_highway_OW5_sunny_FHD_082', 'Suwon_CH02_20200721_2130_TUE_9m_NH_highway_TW5_sunny_FHD 100', 'Suwon_CH07_20200720_1730_MON_9m_NH_highway_OW5_sunny_FHD_085', 'Suwon_CH07_20200720_1730_MON_9m_NH_highway_OW5_sunny_FHD_117', 'Suwon_CH02_20200721_2130_TUE_9m_NH_highway_TW5_sunny_FHD 003', 'Suwon_CH02_20200721_2130_TUE_9m_NH_highway_TW5_sunny_FHD 002', 'Suwon_CH07_20200720_1730_MON_9m_NH_highway_OW5_sunny_FHD_092', 'Suwon_CH02_20200721_2130_TUE_9m_NH_highway_TW5_sunny_FHD 143', 'Suwon_CH02_20200721_2130_TUE_9m_NH_highway_TW5_sunny_FHD 054', 'Suwon_CH02_20200721_2130_TUE_9m_NH_highway_TW5_sunny_FHD 022', 'Suwon_CH02_20200721_2130_TUE_9m_NH_highway_TW5_sunny_FHD 058', 'Suwon_CH07_20200720_1730_MON_9m_NH_highway_OW5_sunny_FHD_122', 'Suwon_CH02_20200721_2130_TUE_9m_NH_highway_TW5_sunny_FHD 093', 'Suwon_CH02_20200721_2130_TUE_9m_NH_highway_TW5_sunny_FHD 124', 'Suwon_CH02_20200721_2130_TUE_9m_NH_highway_TW5_sunny_FHD 101', 'Suwon_CH07_20200720_1730_MON_9m_NH_highway_OW5_sunny_FHD_120', 'Suwon_CH02_20200721_2130_TUE_9m_NH_highway_TW5_sunny_FHD 076', 'Suwon_CH07_20200720_1730_MON_9m_NH_highway_OW5_sunny_FHD_103', 'Suwon_CH07_20200720_1730_MON_9m_NH_highway_OW5_sunny_FHD_112'}\n",
      "폴더2에만 존재하는 파일개수: 222\n"
     ]
    }
   ],
   "source": [
    "import os\n",
    "\n",
    "\n",
    "# 비교할 두 폴더 경로 설정\n",
    "train_images = \"C:\\\\Users\\\\SBA\\\\Downloads\\\\train\\\\images\"\n",
    "train_labels = \"C:\\\\Users\\\\SBA\\\\Downloads\\\\train\\\\labels\"\n",
    "\n",
    "\n",
    "files1 = [f.split(\".\")[0] for f in os.listdir(train_images)]\n",
    "files2 = [f.split(\".\")[0] for f in os.listdir(train_labels)]\n",
    "\n",
    "unique_files1 = set(files1) - set(files2)\n",
    "unique_files2 = set(files2) - set(files1)\n",
    "\n",
    "print(\"폴더1에만 존재하는 파일 이름: \", unique_files1)\n",
    "print(\"폴더1에만 존재하는 파일개수:\", len(unique_files1))\n",
    "print(\"폴더2에만 존재하는 파일 이름: \", unique_files2)\n",
    "print(\"폴더2에만 존재하는 파일개수:\", len(unique_files2))"
   ]
  },
  {
   "cell_type": "code",
   "execution_count": null,
   "metadata": {},
   "outputs": [
    {
     "data": {
      "text/plain": [
       "(56061, 56133)"
      ]
     },
     "metadata": {},
     "output_type": "display_data"
    }
   ],
   "source": [
    "len(files1), len(files2)"
   ]
  },
  {
   "cell_type": "markdown",
   "metadata": {},
   "source": [
    "파일 이름으로 유무 확인 후 파일 삭제하기\n",
    "\n",
    "1. 조건문으로 해당 파일 이름이 있는지 확인 후\n",
    "2. 해당 파일 삭제"
   ]
  },
  {
   "cell_type": "code",
   "execution_count": null,
   "metadata": {},
   "outputs": [],
   "source": [
    "img_drop = list(unique_files1)\n",
    "txt_drop = list(unique_files2)"
   ]
  },
  {
   "cell_type": "code",
   "execution_count": null,
   "metadata": {},
   "outputs": [],
   "source": [
    "for f in img_drop:\n",
    "    file_name = os.path.join(train_images, f+'.png')\n",
    "    if os.path.isfile(file_name):\n",
    "        os.remove(file_name)"
   ]
  },
  {
   "cell_type": "code",
   "execution_count": null,
   "metadata": {},
   "outputs": [],
   "source": [
    "for f in txt_drop:\n",
    "    file_name = os.path.join(train_labels, f+'.txt')\n",
    "    if os.path.isfile(file_name):\n",
    "        os.remove(file_name)"
   ]
  },
  {
   "cell_type": "markdown",
   "metadata": {},
   "source": [
    "### valid"
   ]
  },
  {
   "cell_type": "code",
   "execution_count": null,
   "metadata": {},
   "outputs": [
    {
     "name": "stdout",
     "output_type": "stream",
     "text": [
      "폴더1에만 존재하는 파일 이름:  set()\n",
      "폴더1에만 존재하는 파일개수: 0\n",
      "폴더2에만 존재하는 파일 이름:  {'Suwon_CH02_20200721_2030_TUE_9m_NH_highway_TW5_sunny_FHD_001'}\n",
      "폴더2에만 존재하는 파일개수: 1\n"
     ]
    }
   ],
   "source": [
    "import os\n",
    "\n",
    "\n",
    "# 비교할 두 폴더 경로 설정\n",
    "valid_images = \"C:\\\\Users\\\\SBA\\\\Downloads\\\\valid\\\\images\"\n",
    "valid_labels = \"C:\\\\Users\\\\SBA\\\\Downloads\\\\valid\\\\labels\"\n",
    "\n",
    "\n",
    "files1 = [os.path.splitext(f)[0] for f in os.listdir(valid_images)]\n",
    "files2 = [os.path.splitext(f)[0] for f in os.listdir(valid_labels)]\n",
    "\n",
    "unique_files1 = set(files1) - set(files2)\n",
    "unique_files2 = set(files2) - set(files1)\n",
    "\n",
    "print(\"폴더1에만 존재하는 파일 이름: \", unique_files1)\n",
    "print(\"폴더1에만 존재하는 파일개수:\", len(unique_files1))\n",
    "print(\"폴더2에만 존재하는 파일 이름: \", unique_files2)\n",
    "print(\"폴더2에만 존재하는 파일개수:\", len(unique_files2))"
   ]
  },
  {
   "cell_type": "code",
   "execution_count": null,
   "metadata": {},
   "outputs": [],
   "source": [
    "txt_drop = list(unique_files2)"
   ]
  },
  {
   "cell_type": "code",
   "execution_count": null,
   "metadata": {},
   "outputs": [],
   "source": [
    "for f in txt_drop:\n",
    "    file_name = os.path.join(valid_labels, f+'.txt')\n",
    "    if os.path.isfile(file_name):\n",
    "        os.remove(file_name)"
   ]
  },
  {
   "cell_type": "code",
   "execution_count": null,
   "metadata": {},
   "outputs": [],
   "source": []
  }
 ],
 "metadata": {
  "kernelspec": {
   "display_name": "yolo",
   "language": "python",
   "name": "python3"
  },
  "language_info": {
   "codemirror_mode": {
    "name": "ipython",
    "version": 3
   },
   "file_extension": ".py",
   "mimetype": "text/x-python",
   "name": "python",
   "nbconvert_exporter": "python",
   "pygments_lexer": "ipython3",
   "version": "3.8.18"
  }
 },
 "nbformat": 4,
 "nbformat_minor": 2
}
