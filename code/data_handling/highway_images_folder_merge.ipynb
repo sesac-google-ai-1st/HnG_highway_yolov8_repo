{
 "cells": [
  {
   "cell_type": "markdown",
   "metadata": {},
   "source": [
    "1. Training/바운딩박스/[원천]1-1수도권영동선/ 각 폴더 속의 이미지들을 전부 꺼내서\n",
    "2. train/images 폴더에 풀기"
   ]
  },
  {
   "cell_type": "code",
   "execution_count": null,
   "metadata": {},
   "outputs": [],
   "source": [
    "import os\n",
    "import glob\n",
    "import shutil"
   ]
  },
  {
   "cell_type": "code",
   "execution_count": null,
   "metadata": {},
   "outputs": [],
   "source": [
    "# path 하위에 있는 모든 파일 리스트 반환\n",
    "def read_all_file(path):\n",
    "    output = os.listdir(path)\n",
    "    file_list = []\n",
    "\n",
    "    for i in output:\n",
    "        if os.path.isdir(path+\"/\"+i):\n",
    "            file_list.extend(read_all_file(path+\"/\"+i))\n",
    "        elif os.path.isfile(path+\"/\"+i):\n",
    "            file_list.append(path+\"/\"+i)\n",
    "\n",
    "    return file_list"
   ]
  },
  {
   "cell_type": "code",
   "execution_count": null,
   "metadata": {},
   "outputs": [],
   "source": [
    "# 파일 리스트를 new_path 경로에 저장\n",
    "def copy_all_file(file_list, new_path):\n",
    "    for src_path in file_list:\n",
    "        file = src_path.split(\"/\")[-1]\n",
    "        shutil.copyfile(src_path, new_path+\"/\"+file)"
   ]
  },
  {
   "cell_type": "code",
   "execution_count": null,
   "metadata": {},
   "outputs": [
    {
     "name": "stdout",
     "output_type": "stream",
     "text": [
      "c:\\Users\\SBA\\Downloads\n"
     ]
    }
   ],
   "source": [
    "HOME = os.getcwd()\n",
    "print(HOME)"
   ]
  },
  {
   "cell_type": "code",
   "execution_count": null,
   "metadata": {},
   "outputs": [],
   "source": [
    "train_data_path = os.path.join(HOME, '교통문제 해결을 위한 CCTV 교통 영상(고속도로)', 'Training', '바운딩박스', '[[]원천[]]1-1.수도권영동선')\n",
    "val_data_path = os.path.join(HOME, '교통문제 해결을 위한 CCTV 교통 영상(고속도로)', 'Validation', '바운딩박스', \"[[]원천[]]1.수도권영동선\",  \"BB_01수도권영동선_Validation_image\")"
   ]
  },
  {
   "cell_type": "markdown",
   "metadata": {},
   "source": [
    "### 여러 폴더에 나눠져 있는 train image를 train/images에 복사하기"
   ]
  },
  {
   "cell_type": "code",
   "execution_count": null,
   "metadata": {},
   "outputs": [],
   "source": [
    "new_path = HOME+\"\\\\train\\\\images\"\n",
    "os.makedirs(new_path, exist_ok=True)\n",
    "\n",
    "train_file_list = read_all_file(train_data_path)\n",
    "train_img_list = []\n",
    "\n",
    "# i: Suwon~FHD 폴더 혹은 그 하위 이미지 파일\n",
    "for f in train_file_list:\n",
    "    file_name = f.split('\\\\')[-1]\n",
    "    ch__ = file_name.split('_')[1]\n",
    "    if int(ch__[-2:]) <= 4:\n",
    "        train_img_list.append(f)\n",
    "\n",
    "\n",
    "copy_all_file(train_img_list, new_path)"
   ]
  },
  {
   "cell_type": "markdown",
   "metadata": {},
   "source": [
    "### 여러 폴더에 나눠져 있는 validation image를 valid/images에 복사하기"
   ]
  },
  {
   "cell_type": "code",
   "execution_count": null,
   "metadata": {},
   "outputs": [
    {
     "data": {
      "text/plain": [
       "'c:\\\\Users\\\\SBA\\\\Downloads\\\\교통문제 해결을 위한 CCTV 교통 영상(고속도로)\\\\Validation\\\\바운딩박스'"
      ]
     },
     "metadata": {},
     "output_type": "display_data"
    }
   ],
   "source": [
    "val_data_path"
   ]
  },
  {
   "cell_type": "code",
   "execution_count": null,
   "metadata": {},
   "outputs": [],
   "source": [
    "new_val_path = HOME+\"\\\\valid\\\\images\"\n",
    "os.makedirs(new_val_path, exist_ok=True)\n",
    "\n",
    "val_file_list = read_all_file(val_data_path)\n",
    "val_img_list = []\n",
    "\n",
    "for f in val_file_list:\n",
    "    file_name = f.split('\\\\')[-1]\n",
    "    ch__ = file_name.split('_')[1]\n",
    "    if int(ch__[-2:]) <= 4:\n",
    "        val_img_list.append(f)\n",
    "\n",
    "\n",
    "copy_all_file(val_img_list, new_val_path)"
   ]
  },
  {
   "cell_type": "code",
   "execution_count": null,
   "metadata": {},
   "outputs": [],
   "source": []
  }
 ],
 "metadata": {
  "kernelspec": {
   "display_name": "yolo",
   "language": "python",
   "name": "python3"
  },
  "language_info": {
   "codemirror_mode": {
    "name": "ipython",
    "version": 3
   },
   "file_extension": ".py",
   "mimetype": "text/x-python",
   "name": "python",
   "nbconvert_exporter": "python",
   "pygments_lexer": "ipython3",
   "version": "3.8.18"
  }
 },
 "nbformat": 4,
 "nbformat_minor": 2
}
