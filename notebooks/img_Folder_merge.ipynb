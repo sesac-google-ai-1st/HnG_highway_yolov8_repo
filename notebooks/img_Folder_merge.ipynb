{
 "cells": [
  {
   "cell_type": "markdown",
   "metadata": {},
   "source": [
    "1. Training/바운딩박스/[원천]1-1수도권영동선/ 각 폴더 속의 이미지들을 전부 꺼내서\n",
    "2. trainn/images 폴더에 풀기"
   ]
  },
  {
   "cell_type": "code",
   "execution_count": 11,
   "metadata": {},
   "outputs": [],
   "source": [
    "import os\n",
    "import shutil"
   ]
  },
  {
   "cell_type": "code",
   "execution_count": 26,
   "metadata": {},
   "outputs": [],
   "source": [
    "imgPath = 'C:/Users/SBA/Documents/SBA_share/교통문제 해결을 위한 CCTV 교통 영상(고속도로)/Validation/바운딩박스/[원천]1.수도권영동선/BB_01수도권영동선_Validation_image'"
   ]
  },
  {
   "cell_type": "code",
   "execution_count": 27,
   "metadata": {},
   "outputs": [
    {
     "name": "stdout",
     "output_type": "stream",
     "text": [
      "['Suwon_CH01_20200720_1830_MON_9m_RH_highway_TW5_sunny_FHD', 'Suwon_CH01_20200721_1700_TUE_9m_RH_highway_TW5_sunny_FHD', 'Suwon_CH01_20200722_1430_WED_9m_NH_highway_TW5_rainy_FHD', 'Suwon_CH01_20200722_1930_WED_9m_NH_highway_TW5_sunny_FHD', 'Suwon_CH01_20201012_1723_MON_9m_RH_highway_TW5_sunny_FHD', 'Suwon_CH01_20201213_1200_SUN_9m_NH_highway_TW5_snow_FHD', 'Suwon_CH02_20200720_2130_MON_9m_NH_highway_TW5_sunny_FHD', 'Suwon_CH02_20200721_2030_TUE_9m_NH_highway_TW5_sunny_FHD', 'Suwon_CH02_20200722_1730_WED_9m_NH_highway_TW5_sunny_FHD', 'Suwon_CH02_20201011_1806_SUN_9m_RH_highway_TW5_sunny_FHD', 'Suwon_CH02_20201213_0933_SUN_9m_NH_highway_TW5_snow_FHD', 'Suwon_CH03_20200720_2030_MON_9m_NH_highway_OW5_sunny_FHD', 'Suwon_CH03_20200721_2000_TUE_9m_NH_highway_OW5_sunny_FHD', 'Suwon_CH03_20200722_1700_WED_9m_NH_highway_OW5_sunny_FHD', 'Suwon_CH03_20201011_1742_SUN_9m_RH_highway_OW5_sunny_FHD', 'Suwon_CH03_20201012_1933_MON_9m_RH_highway_OW5_sunny_FHD', 'Suwon_CH04_20200720_1830_MON_9m_NH_highway_OW5_sunny_FHD', 'Suwon_CH04_20200721_1830_TUE_9m_RH_highway_OW5_sunny_FHD', 'Suwon_CH04_20200722_1600_WED_9m_NH_highway_OW5_rainy_FHD', 'Suwon_CH04_20201010_1818_SAT_9m_RH_highway_OW5_sunny_FHD', 'Suwon_CH04_20201012_1838_MON_9m_RH_highway_OW5_sunny_FHD', 'Suwon_CH05_20200720_1830_MON_9m_NH_highway_OW5_sunny_FHD', 'Suwon_CH05_20200721_1700_TUE_9m_NH_highway_OW5_sunny_FHD', 'Suwon_CH05_20200722_1430_WED_9m_NH_highway_OW5_rainy_FHD', 'Suwon_CH05_20201010_1723_SAT_9m_NH_highway_OW5_sunny_FHD', 'Suwon_CH05_20201012_1807_MON_9m_RH_highway_OW5_sunny_FHD', 'Suwon_CH06_20200720_1730_MON_9m_NH_highway_OW5_sunny_FHD', 'Suwon_CH06_20200721_1600_TUE_9m_NH_highway_OW5_sunny_FHD', 'Suwon_CH06_20200722_1400_WED_9m_NH_highway_OW5_rainy_FHD', 'Suwon_CH06_20200722_1900_WED_9m_NH_highway_OW5_sunny_FHD', 'Suwon_CH06_20201012_1839_MON_9m_RH_highway_OW5_sunny_FHD', 'Suwon_CH07_20200720_1900_MON_9m_NH_highway_OW5_sunny_FHD', 'Suwon_CH07_20200721_1800_TUE_9m_NH_highway_OW5_sunny_FHD', 'Suwon_CH07_20200722_1530_WED_9m_NH_highway_OW5_rainy_FHD', 'Suwon_CH07_20201010_1805_SAT_9m_RH_highway_OW5_sunny_FHD', 'Suwon_CH07_20201012_1853_MON_9m_RH_highway_OW5_sunny_FHD', 'Suwon_CH08_20200720_1830_MON_9m_NH_highway_OW5_sunny_FHD', 'Suwon_CH08_20200721_1730_TUE_9m_NH_highway_OW5_sunny_FHD', 'Suwon_CH08_20200722_1500_WED_9m_NH_highway_OW5_rainy_FHD', 'Suwon_CH08_20201010_1740_SAT_9m_RH_highway_OW5_sunny_FHD', 'Suwon_CH08_20201012_1858_MON_9m_RH_highway_OW5_sunny_FHD', 'Suwon_CH09_20200720_1900_MON_9m_NH_highway_OW5_sunny_FHD', 'Suwon_CH09_20200721_1730_TUE_9m_NH_highway_OW5_sunny_FHD', 'Suwon_CH09_20200722_1530_WED_9m_NH_highway_OW5_rainy_FHD', 'Suwon_CH09_20201010_1745_SAT_9m_RH_highway_OW5_sunny_FHD', 'Suwon_CH09_20201012_1903_MON_9m_RH_highway_OW5_sunny_FHD', 'Suwon_CH10_20200720_1830_MON_9m_NH_highway_TW5_sunny_FHD', 'Suwon_CH10_20200721_1700_TUE_9m_NH_highway_TW5_sunny_FHD', 'Suwon_CH10_20200722_1500_WED_9m_NH_highway_TW5_rainy_FHD', 'Suwon_CH10_20200722_2000_WED_9m_NH_highway_TW5_sunny_FHD', 'Suwon_CH10_20201213_0752_SUN_9m_NH_highway_OW5_snow_FHD']\n"
     ]
    }
   ],
   "source": [
    "img_list = os.listdir(imgPath)\n",
    "print(img_list)"
   ]
  },
  {
   "cell_type": "code",
   "execution_count": 28,
   "metadata": {},
   "outputs": [],
   "source": [
    "def read_all_file(path):\n",
    "    output = os.listdir(path)\n",
    "    file_list = []\n",
    "\n",
    "    for i in output:\n",
    "        if os.path.isdir(path+'/'+i):\n",
    "            file_list.extend(read_all_file(path+'/'+i))\n",
    "        elif os.path.isfile(path+'/'+i):\n",
    "            file_list.append(path+'/'+i)\n",
    "    return file_list"
   ]
  },
  {
   "cell_type": "code",
   "execution_count": 29,
   "metadata": {},
   "outputs": [],
   "source": [
    "def copy_all_file(file_list, new_path):\n",
    "    for src_path in file_list:\n",
    "        file = src_path.split(\"/\")[-1]\n",
    "        shutil.copyfile(src_path, new_path+'/'+file)"
   ]
  },
  {
   "cell_type": "code",
   "execution_count": 42,
   "metadata": {},
   "outputs": [
    {
     "data": {
      "text/plain": [
       "8262"
      ]
     },
     "execution_count": 42,
     "metadata": {},
     "output_type": "execute_result"
    }
   ],
   "source": [
    "len(file_list)"
   ]
  },
  {
   "cell_type": "code",
   "execution_count": 39,
   "metadata": {},
   "outputs": [
    {
     "name": "stdout",
     "output_type": "stream",
     "text": [
      "1\n"
     ]
    }
   ],
   "source": [
    "val_filter = int(file_list[1].split('/')[-1].split('_')[1][-2:])\n",
    "print(val_filter)"
   ]
  },
  {
   "cell_type": "code",
   "execution_count": 44,
   "metadata": {},
   "outputs": [],
   "source": [
    "src_path = \"C:/Users/SBA/Documents/SBA_share/교통문제 해결을 위한 CCTV 교통 영상(고속도로)/Validation/바운딩박스/[원천]1.수도권영동선/BB_01수도권영동선_Validation_image\"\n",
    "new_path = \"C:/Users/SBA/Documents/SBA_share/교통문제 해결을 위한 CCTV 교통 영상(고속도로)/test/images\"\n",
    "\n",
    "file_list = read_all_file(src_path)\n",
    "file_list_filter = []\n",
    "\n",
    "for i in range(len(file_list)):\n",
    "    val_filter = int(file_list[i].split('/')[-1].split('_')[1][-2:])\n",
    "    if val_filter<=4:\n",
    "        file_list_filter.append(file_list[i])\n",
    "    else:\n",
    "        pass\n",
    "\n",
    "copy_all_file(file_list_filter, new_path)"
   ]
  },
  {
   "cell_type": "code",
   "execution_count": null,
   "metadata": {},
   "outputs": [],
   "source": []
  }
 ],
 "metadata": {
  "kernelspec": {
   "display_name": "yolo",
   "language": "python",
   "name": "python3"
  },
  "language_info": {
   "codemirror_mode": {
    "name": "ipython",
    "version": 3
   },
   "file_extension": ".py",
   "mimetype": "text/x-python",
   "name": "python",
   "nbconvert_exporter": "python",
   "pygments_lexer": "ipython3",
   "version": "3.8.18"
  }
 },
 "nbformat": 4,
 "nbformat_minor": 2
}
