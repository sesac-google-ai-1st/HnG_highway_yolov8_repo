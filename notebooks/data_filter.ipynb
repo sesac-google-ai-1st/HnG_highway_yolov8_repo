{
 "cells": [
  {
   "cell_type": "code",
   "execution_count": 1,
   "metadata": {},
   "outputs": [],
   "source": [
    "import os"
   ]
  },
  {
   "cell_type": "code",
   "execution_count": 22,
   "metadata": {},
   "outputs": [
    {
     "name": "stdout",
     "output_type": "stream",
     "text": [
      "폴더1에만 존재하는 파일 이름:  set()\n",
      "폴더2에만 존재하는 파일 이름:  {'Suwon_CH02_20200721_2030_TUE_9m_NH_highway_TW5_sunny_FHD_001'}\n",
      "0 1\n"
     ]
    }
   ],
   "source": [
    "folder1 = \"C:/Users/SBA/Documents/SBA_share/교통문제 해결을 위한 CCTV 교통 영상(고속도로)/test/images\"\n",
    "folder2 = \"C:/Users/SBA/Documents/SBA_share/교통문제 해결을 위한 CCTV 교통 영상(고속도로)/test/labels\"\n",
    "\n",
    "files1 = [os.path.splitext(f)[0] for f in os.listdir(folder1)]\n",
    "files2 = [os.path.splitext(f)[0] for f in os.listdir(folder2)]\n",
    "\n",
    "unique_files1 = set(files1) - set(files2)\n",
    "unique_files2 = set(files2) - set(files1)\n",
    "\n",
    "print(\"폴더1에만 존재하는 파일 이름: \", unique_files1)\n",
    "print(\"폴더2에만 존재하는 파일 이름: \", unique_files2)\n",
    "print(len(unique_files1), len(unique_files2))\n"
   ]
  },
  {
   "cell_type": "markdown",
   "metadata": {},
   "source": [
    "파일 이름으로 유무 확인 후 파일 삭제하기\n",
    "1. 같은 파일 이름으로 있는지 조건문으로 확인 후\n",
    "2. 같은 이름 파일 삭제"
   ]
  },
  {
   "cell_type": "code",
   "execution_count": 23,
   "metadata": {},
   "outputs": [],
   "source": [
    "img_drop = list(unique_files1)\n",
    "txt_drop = list(unique_files2)"
   ]
  },
  {
   "cell_type": "code",
   "execution_count": 17,
   "metadata": {},
   "outputs": [],
   "source": [
    "for i in range(len(unique_files1)):\n",
    "    file = 'C:/Users/SBA/Documents/SBA_share/교통문제 해결을 위한 CCTV 교통 영상(고속도로)/train/images/'+img_drop[i]+'.png'\n",
    "    if os.path.isfile(file):\n",
    "        os.remove(file)\n",
    "\n",
    "    else :\n",
    "        pass"
   ]
  },
  {
   "cell_type": "code",
   "execution_count": 24,
   "metadata": {},
   "outputs": [],
   "source": [
    "for i in range(len(unique_files2)):\n",
    "    file = 'C:/Users/SBA/Documents/SBA_share/교통문제 해결을 위한 CCTV 교통 영상(고속도로)/test/labels/'+txt_drop[i]+'.txt'\n",
    "    if os.path.isfile(file):\n",
    "        os.remove(file)\n",
    "\n",
    "    else :\n",
    "        pass"
   ]
  },
  {
   "cell_type": "code",
   "execution_count": 26,
   "metadata": {},
   "outputs": [
    {
     "name": "stdout",
     "output_type": "stream",
     "text": [
      "폴더1에만 존재하는 파일 이름:  set()\n",
      "폴더2에만 존재하는 파일 이름:  set()\n",
      "0 0\n"
     ]
    }
   ],
   "source": [
    "folder1 = \"C:/Users/SBA/Documents/SBA_share/교통문제 해결을 위한 CCTV 교통 영상(고속도로)/test/images\"\n",
    "folder2 = \"C:/Users/SBA/Documents/SBA_share/교통문제 해결을 위한 CCTV 교통 영상(고속도로)/test/labels\"\n",
    "\n",
    "files1 = [os.path.splitext(f)[0] for f in os.listdir(folder1)]\n",
    "files2 = [os.path.splitext(f)[0] for f in os.listdir(folder2)]\n",
    "\n",
    "unique_files1 = set(files1) - set(files2)\n",
    "unique_files2 = set(files2) - set(files1)\n",
    "\n",
    "print(\"폴더1에만 존재하는 파일 이름: \", unique_files1)\n",
    "print(\"폴더2에만 존재하는 파일 이름: \", unique_files2)\n",
    "print(len(unique_files1), len(unique_files2))"
   ]
  },
  {
   "cell_type": "code",
   "execution_count": null,
   "metadata": {},
   "outputs": [],
   "source": []
  }
 ],
 "metadata": {
  "kernelspec": {
   "display_name": "yolo",
   "language": "python",
   "name": "python3"
  },
  "language_info": {
   "codemirror_mode": {
    "name": "ipython",
    "version": 3
   },
   "file_extension": ".py",
   "mimetype": "text/x-python",
   "name": "python",
   "nbconvert_exporter": "python",
   "pygments_lexer": "ipython3",
   "version": "3.8.18"
  }
 },
 "nbformat": 4,
 "nbformat_minor": 2
}
