{
 "cells": [
  {
   "cell_type": "markdown",
   "metadata": {},
   "source": [
    "# xml to txt file \n",
    "xml 파일 속 라벨을 각각 분할하여 txt 파일로 변환"
   ]
  },
  {
   "cell_type": "code",
   "execution_count": 3,
   "metadata": {},
   "outputs": [
    {
     "name": "stdout",
     "output_type": "stream",
     "text": [
      "c:\\Users\\SBA\\Documents\\SBA_share\\교통문제 해결을 위한 CCTV 교통 영상(고속도로)\n"
     ]
    }
   ],
   "source": [
    "# 경로 확인 후 Home에 할당\n",
    "import os\n",
    "HOME=os.getcwd()\n",
    "print(HOME)"
   ]
  },
  {
   "cell_type": "code",
   "execution_count": 4,
   "metadata": {},
   "outputs": [],
   "source": [
    "dataPath = 'C:/Users/SBA/Documents/SBA_share/교통문제 해결을 위한 CCTV 교통 영상(고속도로)/Validation/바운딩박스/[라벨]1.수도권영동선/'"
   ]
  },
  {
   "cell_type": "code",
   "execution_count": 5,
   "metadata": {},
   "outputs": [],
   "source": [
    "from xml_to_yolo import load_xml_annotations, to_yolov8\n",
    "\n",
    "import os\n",
    "\n",
    "def write_yolov8_txt(folder, annotation):\n",
    "  #print(annotation[0][:-3])\n",
    "  out_filename = os.path.join(folder,str(annotation[0][:-3]))\n",
    "  out_filename = os.path.splitext(out_filename)[0]\n",
    "  out_filename = out_filename+'.txt'\n",
    "\n",
    "  f = open(out_filename,\"w+\")\n",
    "  for box in annotation[3]:\n",
    "    f.write(\"{} {} {} {} {}\\n\".format(box[0], box[1], box[2], box[3], box[4]))\n"
   ]
  },
  {
   "cell_type": "markdown",
   "metadata": {},
   "source": [
    "순서가... \n",
    "1. for 문을 돌려서 전체 파일을 _로 split\n",
    "2. 두번째에서 뒤에 한 자리를 인덱싱해서 4 이상은 무시"
   ]
  },
  {
   "cell_type": "code",
   "execution_count": 6,
   "metadata": {},
   "outputs": [
    {
     "name": "stdout",
     "output_type": "stream",
     "text": [
      "Suwon_CH01_20200721_1700_TUE_9m_RH_highway_TW5_sunny_FHD\n"
     ]
    }
   ],
   "source": [
    "xml_list = os.listdir(dataPath)\n",
    "xml_count = len(xml_list)\n",
    "#print(int(xml_list[1].split('_')[1][-2:]))\n",
    "folderName=os.path.splitext(xml_list[1])[0]\n",
    "print(folderName)"
   ]
  },
  {
   "cell_type": "code",
   "execution_count": 8,
   "metadata": {},
   "outputs": [
    {
     "data": {
      "text/plain": [
       "'Suwon_CH01_20200721_1700_TUE_9m_RH_highway_TW5_sunny_FHD.xml'"
      ]
     },
     "execution_count": 8,
     "metadata": {},
     "output_type": "execute_result"
    }
   ],
   "source": [
    "xml_list[1]"
   ]
  },
  {
   "cell_type": "code",
   "execution_count": 7,
   "metadata": {},
   "outputs": [
    {
     "data": {
      "text/plain": [
       "'C:/Users/SBA/Documents/SBA_share/교통문제 해결을 위한 CCTV 교통 영상(고속도로)/test/labels'"
      ]
     },
     "execution_count": 7,
     "metadata": {},
     "output_type": "execute_result"
    }
   ],
   "source": [
    "test_labelsPath = 'C:/Users/SBA/Documents/SBA_share/교통문제 해결을 위한 CCTV 교통 영상(고속도로)/test/labels'\n",
    "test_labelsPath"
   ]
  },
  {
   "cell_type": "code",
   "execution_count": 9,
   "metadata": {},
   "outputs": [
    {
     "name": "stdout",
     "output_type": "stream",
     "text": [
      "C:/Users/SBA/Documents/SBA_share/교통문제 해결을 위한 CCTV 교통 영상(고속도로)/Validation/바운딩박스/[라벨]1.수도권영동선/Suwon_CH01_20200720_1830_MON_9m_RH_highway_TW5_sunny_FHD.xml\n",
      "C:/Users/SBA/Documents/SBA_share/교통문제 해결을 위한 CCTV 교통 영상(고속도로)/Validation/바운딩박스/[라벨]1.수도권영동선/Suwon_CH01_20200721_1700_TUE_9m_RH_highway_TW5_sunny_FHD.xml\n",
      "C:/Users/SBA/Documents/SBA_share/교통문제 해결을 위한 CCTV 교통 영상(고속도로)/Validation/바운딩박스/[라벨]1.수도권영동선/Suwon_CH01_20200722_1430_WED_9m_NH_highway_TW5_rainy_FHD.xml\n",
      "C:/Users/SBA/Documents/SBA_share/교통문제 해결을 위한 CCTV 교통 영상(고속도로)/Validation/바운딩박스/[라벨]1.수도권영동선/Suwon_CH01_20200722_1930_WED_9m_NH_highway_TW5_sunny_FHD.xml\n",
      "C:/Users/SBA/Documents/SBA_share/교통문제 해결을 위한 CCTV 교통 영상(고속도로)/Validation/바운딩박스/[라벨]1.수도권영동선/Suwon_CH01_20201012_1723_MON_9m_RH_highway_TW5_sunny_FHD.xml\n",
      "C:/Users/SBA/Documents/SBA_share/교통문제 해결을 위한 CCTV 교통 영상(고속도로)/Validation/바운딩박스/[라벨]1.수도권영동선/Suwon_CH01_20201213_1200_SUN_9m_NH_highway_TW5_snow_FHD.xml\n",
      "C:/Users/SBA/Documents/SBA_share/교통문제 해결을 위한 CCTV 교통 영상(고속도로)/Validation/바운딩박스/[라벨]1.수도권영동선/Suwon_CH02_20200720_2130_MON_9m_NH_highway_TW5_sunny_FHD.xml\n",
      "C:/Users/SBA/Documents/SBA_share/교통문제 해결을 위한 CCTV 교통 영상(고속도로)/Validation/바운딩박스/[라벨]1.수도권영동선/Suwon_CH02_20200721_2030_TUE_9m_NH_highway_TW5_sunny_FHD.xml\n",
      "C:/Users/SBA/Documents/SBA_share/교통문제 해결을 위한 CCTV 교통 영상(고속도로)/Validation/바운딩박스/[라벨]1.수도권영동선/Suwon_CH02_20200722_1730_WED_9m_NH_highway_TW5_sunny_FHD.xml\n",
      "C:/Users/SBA/Documents/SBA_share/교통문제 해결을 위한 CCTV 교통 영상(고속도로)/Validation/바운딩박스/[라벨]1.수도권영동선/Suwon_CH02_20201011_1806_SUN_9m_RH_highway_TW5_sunny_FHD.xml\n",
      "C:/Users/SBA/Documents/SBA_share/교통문제 해결을 위한 CCTV 교통 영상(고속도로)/Validation/바운딩박스/[라벨]1.수도권영동선/Suwon_CH02_20201213_0933_SUN_9m_NH_highway_TW5_snow_FHD.xml\n",
      "C:/Users/SBA/Documents/SBA_share/교통문제 해결을 위한 CCTV 교통 영상(고속도로)/Validation/바운딩박스/[라벨]1.수도권영동선/Suwon_CH03_20200720_2030_MON_9m_NH_highway_OW5_sunny_FHD.xml\n",
      "C:/Users/SBA/Documents/SBA_share/교통문제 해결을 위한 CCTV 교통 영상(고속도로)/Validation/바운딩박스/[라벨]1.수도권영동선/Suwon_CH03_20200721_2000_TUE_9m_NH_highway_OW5_sunny_FHD.xml\n",
      "C:/Users/SBA/Documents/SBA_share/교통문제 해결을 위한 CCTV 교통 영상(고속도로)/Validation/바운딩박스/[라벨]1.수도권영동선/Suwon_CH03_20200722_1700_WED_9m_NH_highway_OW5_sunny_FHD.xml\n",
      "C:/Users/SBA/Documents/SBA_share/교통문제 해결을 위한 CCTV 교통 영상(고속도로)/Validation/바운딩박스/[라벨]1.수도권영동선/Suwon_CH03_20201011_1742_SUN_9m_RH_highway_OW5_sunny_FHD.xml\n",
      "C:/Users/SBA/Documents/SBA_share/교통문제 해결을 위한 CCTV 교통 영상(고속도로)/Validation/바운딩박스/[라벨]1.수도권영동선/Suwon_CH03_20201012_1933_MON_9m_RH_highway_OW5_sunny_FHD.xml\n",
      "C:/Users/SBA/Documents/SBA_share/교통문제 해결을 위한 CCTV 교통 영상(고속도로)/Validation/바운딩박스/[라벨]1.수도권영동선/Suwon_CH04_20200720_1830_MON_9m_NH_highway_OW5_sunny_FHD.xml\n",
      "C:/Users/SBA/Documents/SBA_share/교통문제 해결을 위한 CCTV 교통 영상(고속도로)/Validation/바운딩박스/[라벨]1.수도권영동선/Suwon_CH04_20200721_1830_TUE_9m_RH_highway_OW5_sunny_FHD.xml\n",
      "C:/Users/SBA/Documents/SBA_share/교통문제 해결을 위한 CCTV 교통 영상(고속도로)/Validation/바운딩박스/[라벨]1.수도권영동선/Suwon_CH04_20200722_1600_WED_9m_NH_highway_OW5_rainy_FHD.xml\n",
      "C:/Users/SBA/Documents/SBA_share/교통문제 해결을 위한 CCTV 교통 영상(고속도로)/Validation/바운딩박스/[라벨]1.수도권영동선/Suwon_CH04_20201010_1818_SAT_9m_RH_highway_OW5_sunny_FHD.xml\n",
      "C:/Users/SBA/Documents/SBA_share/교통문제 해결을 위한 CCTV 교통 영상(고속도로)/Validation/바운딩박스/[라벨]1.수도권영동선/Suwon_CH04_20201012_1838_MON_9m_RH_highway_OW5_sunny_FHD.xml\n"
     ]
    }
   ],
   "source": [
    "for i in range(xml_count):\n",
    "    if int(xml_list[i].split('_')[1][-2:])<=4:\n",
    "        label_file = os.path.join(dataPath, xml_list[i])\n",
    "        print(label_file)\n",
    "        anns = load_xml_annotations(label_file)\n",
    "        folderName=os.path.splitext(xml_list[i])[0]\n",
    "        os.makedirs(os.path.join(test_labelsPath), exist_ok=True)\n",
    "\n",
    "\n",
    "        # # 이미지 파일별로 TXT파일을 저장한다.\n",
    "        for ann in anns:\n",
    "            write_yolov8_txt(test_labelsPath, ann)\n",
    "    else :\n",
    "        pass"
   ]
  },
  {
   "cell_type": "code",
   "execution_count": null,
   "metadata": {},
   "outputs": [],
   "source": []
  }
 ],
 "metadata": {
  "kernelspec": {
   "display_name": "yolo",
   "language": "python",
   "name": "python3"
  },
  "language_info": {
   "codemirror_mode": {
    "name": "ipython",
    "version": 3
   },
   "file_extension": ".py",
   "mimetype": "text/x-python",
   "name": "python",
   "nbconvert_exporter": "python",
   "pygments_lexer": "ipython3",
   "version": "3.8.18"
  }
 },
 "nbformat": 4,
 "nbformat_minor": 2
}
